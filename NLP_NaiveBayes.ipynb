{
 "cells": [
  {
   "cell_type": "code",
   "execution_count": 49,
   "metadata": {},
   "outputs": [],
   "source": [
    "x = [\"This was awesome and awesome movie\",\n",
    "     \"Great movie!I liked it a lot\",\n",
    "     \"Happy ending! awesome acting by the hero\",\n",
    "     \"loved it! truely great\",\n",
    "     \"bad notupto the mark\",\n",
    "     \"could have been better\",\n",
    "     \"Surelt a disappointing movie\"\n",
    "     ]\n",
    "\n",
    "y = [1,1,1,1,0,0,0]"
   ]
  },
  {
   "cell_type": "code",
   "execution_count": 50,
   "metadata": {},
   "outputs": [],
   "source": [
    "X_test = [\"I was happy and happy and I loved the acting in the movie\",\n",
    "          \"The movie I saw was bad\",\n",
    "          \"I was disappointed by it\"\n",
    "         ]"
   ]
  },
  {
   "cell_type": "code",
   "execution_count": 51,
   "metadata": {},
   "outputs": [],
   "source": [
    "sample_text=\"\"\"I loved this movie since I was 7 and I saw it on the opening day. It was so touching and beautiful. I strongly recommend seeing for all. It's a movie to watch with your family by far.<br /><br />My MPAA rating: PG-13 for thematic elements, prolonged scenes of disastor, nudity/sexuality and some language.\n",
    "First things first, Edison Chen did a fantastic, believable job as a Cambodian hit-man, born and bred in the dumps and a gladiatorial ring, where he honed his craft of savage battery in order to survive, living on the mantra of kill or be killed. In a role that had little dialogue, or at least a few lines in Cambodian/Thai, his performance is compelling, probably what should have been in the Jet Li vehicle Danny the Dog, where a man is bred for the sole purpose of fighting, and on someone else's leash.<br /><br />Like Danny the Dog, the much talked about bare knuckle fight sequences are not choreographed stylistically, but rather designed as normal, brutal fisticuffs, where everything goes. This probably brought a sense of realism and grit when you see the characters slug it out at each other's throats, in defending their own lives while taking it away from others. It's a grim, gritty and dark movie both literally and figuratively, and this sets it apart from the usual run off the mill cop thriller production.<br /><br />Edison plays a hired gun from Cambodia, who becomes a fugitive in Hong Kong, on the run from the cops as his pickup had gone awry. Leading the chase is the team led by Cheung Siu-Fai, who has to contend with maverick member Inspector Ti (Sam Lee), who's inclusion and acceptance in the team had to do with the sins of his father. So begins a cat and mouse game in the dark shades and shadows of the seedier looking side of Hong Kong.<br /><br />The story itself works on multiple levels, especially in the character studies of the hit-man, and the cop. On opposite sides of the law, we see within each character not the black and white, but the shades of grey. With the hit-man, we see his caring side when he got hooked up and developed feelings of love for a girl (Pei Pei), bringing about a sense of maturity, tenderness, and revealing a heart of gold. The cop, with questionable tactics and attitudes, makes you wonder how one would buckle when willing to do anything it takes to get the job done. There are many interesting moments of moral questioning, on how anti-hero, despicable strategies are adopted. You'll ask, what makes a man, and what makes a beast, and if we have the tendency to switch sides depending on circumstances - do we have that dark inner streak in all of us, transforming from man to dog, and dog to man? Dog Bite Dog grips you from the start and never lets go until the end, though there are points mid way through that seemed to drag, especially on its tender moments, and it suffered too from not knowing when to end. If I should pick a favourite scene, then it must be the one in the market food centre - extremely well controlled and delivered, a suspenseful edge of your seat moment. Listen out for the musical score too, and you're not dreaming if you hear growls of dogs.<br /><br />Highly recommended, especially if you think that you've seen about almost everything from the cop thriller genre.\"\"\""
   ]
  },
  {
   "cell_type": "code",
   "execution_count": 52,
   "metadata": {},
   "outputs": [],
   "source": [
    "from nltk.tokenize import RegexpTokenizer\n",
    "from nltk.stem import PorterStemmer\n",
    "from nltk.corpus import stopwords"
   ]
  },
  {
   "cell_type": "code",
   "execution_count": 53,
   "metadata": {},
   "outputs": [],
   "source": [
    "clean_text = sample_text.replace(\"<br /><br />\",\" \")"
   ]
  },
  {
   "cell_type": "code",
   "execution_count": 54,
   "metadata": {},
   "outputs": [],
   "source": [
    "tokenizer = RegexpTokenizer('[a-zA-Z]+')"
   ]
  },
  {
   "cell_type": "code",
   "execution_count": 55,
   "metadata": {},
   "outputs": [],
   "source": [
    "stopwords = set(stopwords.words('english'))"
   ]
  },
  {
   "cell_type": "code",
   "execution_count": 56,
   "metadata": {},
   "outputs": [],
   "source": [
    "ps = PorterStemmer()"
   ]
  },
  {
   "cell_type": "code",
   "execution_count": 57,
   "metadata": {},
   "outputs": [],
   "source": [
    "def clean_review(review):\n",
    "    review = review.lower()\n",
    "    review = review.replace(\"<br /><br />\",\" \")\n",
    "    tokens = tokenizer.tokenize(review)\n",
    "    new_tokens = [ps.stem(token) for token in tokens if token not in stopwords]\n",
    "    \n",
    "    return ' '.join(new_tokens)"
   ]
  },
  {
   "cell_type": "code",
   "execution_count": 60,
   "metadata": {},
   "outputs": [
    {
     "ename": "AttributeError",
     "evalue": "'generator' object has no attribute 'lower'",
     "output_type": "error",
     "traceback": [
      "\u001b[1;31m---------------------------------------------------------------------------\u001b[0m",
      "\u001b[1;31mAttributeError\u001b[0m                            Traceback (most recent call last)",
      "\u001b[1;32m<ipython-input-60-4ac0e33349c6>\u001b[0m in \u001b[0;36m<module>\u001b[1;34m\u001b[0m\n\u001b[0;32m      1\u001b[0m \u001b[0mX_test_clean\u001b[0m \u001b[1;33m=\u001b[0m \u001b[0mclean_review\u001b[0m\u001b[1;33m(\u001b[0m\u001b[0mclean_text\u001b[0m\u001b[1;33m)\u001b[0m\u001b[1;33m\u001b[0m\u001b[1;33m\u001b[0m\u001b[0m\n\u001b[1;32m----> 2\u001b[1;33m \u001b[0mX_clean\u001b[0m \u001b[1;33m=\u001b[0m \u001b[0mclean_review\u001b[0m\u001b[1;33m(\u001b[0m\u001b[0msent\u001b[0m \u001b[1;32mfor\u001b[0m \u001b[0msent\u001b[0m \u001b[1;32min\u001b[0m \u001b[0mx\u001b[0m \u001b[1;33m)\u001b[0m\u001b[1;33m\u001b[0m\u001b[1;33m\u001b[0m\u001b[0m\n\u001b[0m",
      "\u001b[1;32m<ipython-input-57-6972c9e0b53f>\u001b[0m in \u001b[0;36mclean_review\u001b[1;34m(review)\u001b[0m\n\u001b[0;32m      1\u001b[0m \u001b[1;32mdef\u001b[0m \u001b[0mclean_review\u001b[0m\u001b[1;33m(\u001b[0m\u001b[0mreview\u001b[0m\u001b[1;33m)\u001b[0m\u001b[1;33m:\u001b[0m\u001b[1;33m\u001b[0m\u001b[1;33m\u001b[0m\u001b[0m\n\u001b[1;32m----> 2\u001b[1;33m     \u001b[0mreview\u001b[0m \u001b[1;33m=\u001b[0m \u001b[0mreview\u001b[0m\u001b[1;33m.\u001b[0m\u001b[0mlower\u001b[0m\u001b[1;33m(\u001b[0m\u001b[1;33m)\u001b[0m\u001b[1;33m\u001b[0m\u001b[1;33m\u001b[0m\u001b[0m\n\u001b[0m\u001b[0;32m      3\u001b[0m     \u001b[0mreview\u001b[0m \u001b[1;33m=\u001b[0m \u001b[0mreview\u001b[0m\u001b[1;33m.\u001b[0m\u001b[0mreplace\u001b[0m\u001b[1;33m(\u001b[0m\u001b[1;34m\"<br /><br />\"\u001b[0m\u001b[1;33m,\u001b[0m\u001b[1;34m\" \"\u001b[0m\u001b[1;33m)\u001b[0m\u001b[1;33m\u001b[0m\u001b[1;33m\u001b[0m\u001b[0m\n\u001b[0;32m      4\u001b[0m     \u001b[0mtokens\u001b[0m \u001b[1;33m=\u001b[0m \u001b[0mtokenizer\u001b[0m\u001b[1;33m.\u001b[0m\u001b[0mtokenize\u001b[0m\u001b[1;33m(\u001b[0m\u001b[0mreview\u001b[0m\u001b[1;33m)\u001b[0m\u001b[1;33m\u001b[0m\u001b[1;33m\u001b[0m\u001b[0m\n\u001b[0;32m      5\u001b[0m     \u001b[0mnew_tokens\u001b[0m \u001b[1;33m=\u001b[0m \u001b[1;33m[\u001b[0m\u001b[0mps\u001b[0m\u001b[1;33m.\u001b[0m\u001b[0mstem\u001b[0m\u001b[1;33m(\u001b[0m\u001b[0mtoken\u001b[0m\u001b[1;33m)\u001b[0m \u001b[1;32mfor\u001b[0m \u001b[0mtoken\u001b[0m \u001b[1;32min\u001b[0m \u001b[0mtokens\u001b[0m \u001b[1;32mif\u001b[0m \u001b[0mtoken\u001b[0m \u001b[1;32mnot\u001b[0m \u001b[1;32min\u001b[0m \u001b[0mstopwords\u001b[0m\u001b[1;33m]\u001b[0m\u001b[1;33m\u001b[0m\u001b[1;33m\u001b[0m\u001b[0m\n",
      "\u001b[1;31mAttributeError\u001b[0m: 'generator' object has no attribute 'lower'"
     ]
    }
   ],
   "source": [
    "X_test_clean = clean_review(clean_text)\n",
    "X_clean = clean_review(sent for sent in x )"
   ]
  },
  {
   "cell_type": "code",
   "execution_count": 59,
   "metadata": {},
   "outputs": [
    {
     "name": "stdout",
     "output_type": "stream",
     "text": [
      "love movi sinc saw open day touch beauti strongli recommend see movi watch famili far mpaa rate pg themat element prolong scene disastor nuditi sexual languag first thing first edison chen fantast believ job cambodian hit man born bred dump gladiatori ring hone craft savag batteri order surviv live mantra kill kill role littl dialogu least line cambodian thai perform compel probabl jet li vehicl danni dog man bred sole purpos fight someon els leash like danni dog much talk bare knuckl fight sequenc choreograph stylist rather design normal brutal fisticuff everyth goe probabl brought sens realism grit see charact slug throat defend live take away other grim gritti dark movi liter figur set apart usual run mill cop thriller product edison play hire gun cambodia becom fugit hong kong run cop pickup gone awri lead chase team led cheung siu fai contend maverick member inspector ti sam lee inclus accept team sin father begin cat mous game dark shade shadow seedier look side hong kong stori work multipl level especi charact studi hit man cop opposit side law see within charact black white shade grey hit man see care side got hook develop feel love girl pei pei bring sens matur tender reveal heart gold cop question tactic attitud make wonder one would buckl will anyth take get job done mani interest moment moral question anti hero despic strategi adopt ask make man make beast tendenc switch side depend circumst dark inner streak us transform man dog dog man dog bite dog grip start never let go end though point mid way seem drag especi tender moment suffer know end pick favourit scene must one market food centr extrem well control deliv suspens edg seat moment listen music score dream hear growl dog highli recommend especi think seen almost everyth cop thriller genr\n"
     ]
    }
   ],
   "source": [
    "print(X_test_clean)"
   ]
  },
  {
   "cell_type": "code",
   "execution_count": null,
   "metadata": {},
   "outputs": [],
   "source": [
    "from sklearn.feature_ex "
   ]
  }
 ],
 "metadata": {
  "kernelspec": {
   "display_name": "Python 3",
   "language": "python",
   "name": "python3"
  },
  "language_info": {
   "codemirror_mode": {
    "name": "ipython",
    "version": 3
   },
   "file_extension": ".py",
   "mimetype": "text/x-python",
   "name": "python",
   "nbconvert_exporter": "python",
   "pygments_lexer": "ipython3",
   "version": "3.7.3"
  }
 },
 "nbformat": 4,
 "nbformat_minor": 2
}
