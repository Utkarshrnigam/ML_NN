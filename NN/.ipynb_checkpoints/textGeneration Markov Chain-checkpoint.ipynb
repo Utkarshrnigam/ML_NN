{
 "cells": [
  {
   "cell_type": "code",
   "execution_count": 1,
   "metadata": {},
   "outputs": [],
   "source": [
    "import numpy as np"
   ]
  },
  {
   "cell_type": "code",
   "execution_count": 38,
   "metadata": {},
   "outputs": [],
   "source": [
    "\n",
    "def generateTable(data,k=4):\n",
    "    T = {}\n",
    "    for i in range(len(data)-k):\n",
    "        X = data[i:i+k]\n",
    "        Y = data[i+k]\n",
    "        #print(\"X is %s and Y is %s \"%(X,Y))\n",
    "        if T.get(X) is None:\n",
    "            T[X] = {}\n",
    "            T[X][Y] = 1\n",
    "        else:\n",
    "            if T[X].get(Y) is None:\n",
    "                T[X][Y] = 1\n",
    "            else:\n",
    "                T[X][Y] += 1\n",
    "        \n",
    "    for ix in T.keys():\n",
    "        s = float(sum(T[ix].values()))\n",
    "        for k in T[ix].keys():\n",
    "            T[ix][k] = T[ix][k]/s\n",
    "            \n",
    "    return T"
   ]
  },
  {
   "cell_type": "code",
   "execution_count": 39,
   "metadata": {},
   "outputs": [],
   "source": [
    "textPath = \"C:/Users/ASUS/Desktop/p/ML/ML/NN/Dataset/textGeneration/Apna Time Aayega.txt\""
   ]
  },
  {
   "cell_type": "code",
   "execution_count": 40,
   "metadata": {},
   "outputs": [],
   "source": [
    "def generateText(filename):\n",
    "    with open(filename) as f:\n",
    "        return f.read().lower()\n",
    "        "
   ]
  },
  {
   "cell_type": "code",
   "execution_count": 41,
   "metadata": {},
   "outputs": [
    {
     "name": "stdout",
     "output_type": "stream",
     "text": [
      "apna time aayega\n",
      "uth ja apni raakh se\n",
      "tu udd ja ab talaash mein\n",
      "parwaaz dekh parwane ki\n",
      "aasman bhi sar uthayega\n",
      "aayega apna time aayega\n",
      "mere jaisa shaana lala\n",
      "tujhe na mil payega\n",
      " \n",
      "yeh shabdon ka jwala\n",
      "meri bediyan pighlayega\n",
      "jitna toone boya hai tu\n",
      "utna hi to khaayega\n",
      "aisa mera khwaab hai\n",
      "jo darr ko bhi satayega\n",
      "zinda mera khwaab\n",
      "ab kaise tu dafnayega\n",
      " \n",
      "ab hausle se jeene de\n",
      "ab khauf nahi hai seene mein\n",
      "har raaste ko cheerenge\n",
      "hum kaamyabi chheenenge\n",
      "sab kuchh mila paseene se\n",
      "matlab bana ab jeene mein\n",
      " \n",
      "kyon\n",
      "kyon ki apna time aayega\n",
      " \n",
      "tu nanga hi to aaya hai\n",
      "kya ghanta lekar jaayega\n",
      "apna time aayega\n",
      "apna time aayega\n",
      "apna time aayega\n",
      " \n",
      "tu nanga hi to aaya hai\n",
      "kya ghanta lekar..\n",
      " \n",
      "kissi ka hath nahi tha sar par\n",
      "yahaan par aaya khud ki mehnat se main\n",
      "jitni taakat kismat mein nahi\n",
      "utni rehmat mein hai\n",
      "phir bhi ladka sehmat nahin hai\n",
      "kyon ki hairat nahi hai\n",
      "zaroorat yahaan marzi ki\n",
      "aur jurrat ki hai\n",
      " \n",
      "taakat ki hai, aafat ki\n",
      "himaakat ki, ibaadat ki\n",
      "adalat yeh hai chahat ki\n",
      "mohobbat ki, amaanat ki\n",
      "jeetne ki ab aadat ki hai\n",
      "shohrat ki ab laalach nai hai\n",
      "tere bhai jaisa koyi hardâ€™ch nai hai\n",
      " \n",
      "iss harkat ne hi barkat di hai\n",
      "kyon?\n",
      " \n",
      "tu nanga hi to aaya hai\n",
      "kya ghanta lekar jaayega\n",
      "apna time aayega\n",
      "apna time aayega\n",
      "apna time aayega\n",
      " \n",
      "tu nanga hi to aaya hai\n",
      "kya ghanta lekar jaayega\n",
      "kya tu ghanta lekar jaayega\n",
      "apna time aayega\n",
      "apna time aayega\n"
     ]
    }
   ],
   "source": [
    "text = generateText(textPath)\n",
    "print(text)"
   ]
  },
  {
   "cell_type": "code",
   "execution_count": 42,
   "metadata": {},
   "outputs": [],
   "source": [
    "model = generateTable(text)\n",
    "# print(model)"
   ]
  },
  {
   "cell_type": "code",
   "execution_count": 43,
   "metadata": {},
   "outputs": [],
   "source": [
    "\n",
    "def sample_next(ctx,T,k=4):\n",
    "    ctx = ctx[-k:]\n",
    "    if T.get(ctx) is None:\n",
    "        return \" \"\n",
    "    possible_chars = list(T[ctx].keys())\n",
    "    possible_values = list(T[ctx].values())\n",
    "    \n",
    "    #print(possible_chars)\n",
    "    #print(possible_values)\n",
    "    \n",
    "    return np.random.choice(possible_chars,p=possible_values)"
   ]
  },
  {
   "cell_type": "code",
   "execution_count": 44,
   "metadata": {},
   "outputs": [],
   "source": [
    "def generateText(starting_sent,k=4,maxLen=2000):\n",
    "    sentence = starting_sent\n",
    "    ctx = starting_sent[-k:]\n",
    "    np.random.seed(11)\n",
    "    for ix in range(maxLen):\n",
    "        \n",
    "        next_prediction = sample_next(ctx,model)\n",
    "        sentence += next_prediction\n",
    "        ctx = sentence[-k:]\n",
    "        \n",
    "    return sentence"
   ]
  },
  {
   "cell_type": "code",
   "execution_count": 45,
   "metadata": {},
   "outputs": [
    {
     "name": "stdout",
     "output_type": "stream",
     "text": [
      "apna time aaya hath nahi\n",
      "utna hi to aaya hai seene se\n",
      "matlab bana lala\n",
      "mere bhai tu\n",
      "utna time aaya hai\n",
      "phir bhi satayega\n",
      "zinda mera khud ki hai, amaana lala\n",
      "tujhe na mila paseene se jeenenge\n",
      "sab kuchh mil payega\n",
      "jitni rehmat mein\n",
      "har raakh se\n",
      "tu nanga hi to khauf nahin hai jaisa koyi hai seene mein nahi hai\n",
      "kyon ki ab laalach nai hai\n",
      "kya ghanta lekar jaayega\n",
      "kya tu dafnayega\n",
      "apna time aayega\n",
      "kya tu ghanta lekar..\n",
      " \n",
      "kyon\n",
      "kyon ka hai\n",
      "kya ghanta lekar jaayega\n",
      "apna time aayega\n",
      "zinda mera khwaab hai chheene mein\n",
      " \n",
      "kyon ki hai jaisa shaan pighlayega\n",
      "jitni taakat ne hi barkat ki mehnat ki, amaana ab talaash mein\n",
      "parwane ki hai\n",
      "jo darr ko bhi ladka sehmat mein nahi\n",
      "utna hi to khaayega\n",
      " \n",
      "yeh shabdon ka hai\n",
      "zaroorat ki\n",
      "himaakat di hairat ki, ibaadat ki hai\n",
      "kya ghanta lekar jaayega\n",
      "apna time aayega\n",
      " \n",
      "tu nanga hi barkat ki\n",
      "adalat yahaan par\n",
      "yahaan marzi ki\n",
      "jeetne ki\n",
      "jeetne ki mehnat se main\n",
      "jitna hi to aayega\n",
      " \n",
      "tu nanga hi to aayega\n",
      " \n",
      "tu nanga hi barkat ki, amaana lala\n",
      "tujhe na mila paseene se main\n",
      "jitna toone boya hai\n",
      "kya ghanta lekar jaayega\n",
      "apna time aayega\n",
      "apna toone boya hath nai hai\n",
      " \n",
      "iss harkat ki, aafat ki, ibaadat ki ab aadat ki mehnat se jeenenge\n",
      "sab khaayega\n",
      "apna time aayega\n",
      "jitni rehmat ne hi to aaya hath nahin hai\n",
      "jo darr ko cheerenge\n",
      "sab khauf nahi\n",
      "utna hi to aayega apna time aayega\n",
      " \n",
      "yeh shabdon ki hai\n",
      "kya ghanta lekar jaayega\n",
      "zinda mera khud ki hai\n",
      "kyon ki hai\n",
      "kyon\n",
      "kyon\n",
      "kyon ki mehnat se main\n",
      "jitni raaste ko bhi satayega\n",
      "apna time aayega\n",
      "aisa mera khwaab\n",
      "ab hausle se\n",
      "matlab bana ab aadat ki hai seene se jeene se\n",
      "tu udd ja ab aadat ki hai jaisa shabdon ki mehnat ki\n",
      "aasman bhi sar par\n",
      "yahaanat se jeenenge\n",
      "hum kaamyabi chahat ki, ibaadat ki\n",
      "aasman bhi satayega\n",
      "kya ghanta lekar jaayega\n",
      "kya ghanta lekar..\n",
      " \n",
      "kyon?\n",
      " \n",
      "tu udd ja apna time aaya hath nai hai\n",
      "zaroorat ki hai\n",
      "kya tu dafnayega apna time aaya hai\n",
      "phir bhi sar uthayega\n",
      "aayega\n",
      "aayega\n",
      "apna time aayega\n",
      "uth ja ab jeenenge\n",
      "hum kaamyabi chahat ki apna time aayega\n",
      "jitni raakh se\n",
      "tu nanga hi to aayega\n",
      " \n",
      "taakat ki mehnat ki\n"
     ]
    }
   ],
   "source": [
    "result = generateText(\"apna\")\n",
    "print(result)"
   ]
  },
  {
   "cell_type": "code",
   "execution_count": 21,
   "metadata": {},
   "outputs": [
    {
     "data": {
      "text/plain": [
       "2004"
      ]
     },
     "execution_count": 21,
     "metadata": {},
     "output_type": "execute_result"
    }
   ],
   "source": [
    "f = open(\"textGenOpt.txt\",\"w\")\n",
    "f.write(result)"
   ]
  },
  {
   "cell_type": "code",
   "execution_count": null,
   "metadata": {},
   "outputs": [],
   "source": []
  },
  {
   "cell_type": "code",
   "execution_count": null,
   "metadata": {},
   "outputs": [],
   "source": []
  }
 ],
 "metadata": {
  "kernelspec": {
   "display_name": "Python 3",
   "language": "python",
   "name": "python3"
  },
  "language_info": {
   "codemirror_mode": {
    "name": "ipython",
    "version": 3
   },
   "file_extension": ".py",
   "mimetype": "text/x-python",
   "name": "python",
   "nbconvert_exporter": "python",
   "pygments_lexer": "ipython3",
   "version": "3.7.3"
  }
 },
 "nbformat": 4,
 "nbformat_minor": 2
}
