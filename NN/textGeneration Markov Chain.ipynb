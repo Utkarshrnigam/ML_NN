{
 "cells": [
  {
   "cell_type": "code",
   "execution_count": 1,
   "metadata": {},
   "outputs": [],
   "source": [
    "import numpy as np"
   ]
  },
  {
   "cell_type": "code",
   "execution_count": 27,
   "metadata": {},
   "outputs": [],
   "source": [
    "\n",
    "def generateTable(data,k=4):\n",
    "    T = {}\n",
    "    for i in range(len(data)-k):\n",
    "        X = data[i:i+k]\n",
    "        Y = data[i+k]\n",
    "        #print(\"X is %s and Y is %s \"%(X,Y))\n",
    "        if T.get(X) is None:\n",
    "            T[X] = {}\n",
    "            T[X][Y] = 1\n",
    "        else:\n",
    "            if T[X].get(Y) is None:\n",
    "                T[X][Y] = 1\n",
    "            else:\n",
    "                T[X][Y] += 1\n",
    "        \n",
    "    for ix in T.keys():\n",
    "        s = float(sum(T[ix].values()))\n",
    "        for k in T[ix].keys():\n",
    "            T[ix][k] = T[ix][k]/s\n",
    "            \n",
    "    return T"
   ]
  },
  {
   "cell_type": "code",
   "execution_count": 28,
   "metadata": {},
   "outputs": [],
   "source": [
    "textPath = \"C:/Users/ASUS/Desktop/p/ML/ML/NN/Dataset/textGeneration/Apna Time Aayega.txt\""
   ]
  },
  {
   "cell_type": "code",
   "execution_count": 29,
   "metadata": {},
   "outputs": [],
   "source": [
    "def generateText(filename):\n",
    "    with open(filename) as f:\n",
    "        return f.read().lower()\n",
    "        "
   ]
  },
  {
   "cell_type": "code",
   "execution_count": 30,
   "metadata": {},
   "outputs": [
    {
     "name": "stdout",
     "output_type": "stream",
     "text": [
      "1360\n"
     ]
    }
   ],
   "source": [
    "# text = generateText(textPath)\n",
    "text = \"\"\"Apna Time Aayega\n",
    "Uth ja apni raakh se\n",
    "Tu udd ja ab talaash mein\n",
    "Parwaaz dekh parwane ki\n",
    "Aasman bhi sar uthayega\n",
    "Aayega apna time aayega\n",
    "Mere jaisa shaana lala\n",
    "Tujhe na mil payega\n",
    " \n",
    "Yeh shabdon ka jwala\n",
    "Meri bediyan pighlayega\n",
    "Jitna toone boya hai tu\n",
    "Utna hi to khaayega\n",
    "Aisa mera khwaab hai\n",
    "Jo darr ko bhi satayega\n",
    "Zinda mera khwaab\n",
    "Ab kaise tu dafnayega\n",
    " \n",
    "Ab hausle se jeene de\n",
    "Ab khauf nahi hai seene mein\n",
    "Har raaste ko cheerenge\n",
    "Hum kaamyabi chheenenge\n",
    "Sab kuchh mila paseene se\n",
    "Matlab bana ab jeene mein\n",
    " \n",
    "Kyon\n",
    "Kyon ki apna time aayega\n",
    " \n",
    "Tu nanga hi to aaya hai\n",
    "Kya ghanta lekar jaayega\n",
    "Apna time aayega\n",
    "Apna time aayega\n",
    "Apna time aayega x (2)\n",
    " \n",
    "Tu nanga hi to aaya hai\n",
    "Kya ghanta lekar..\n",
    " \n",
    "Kissi ka hath nahi tha sar par\n",
    "Yahaan par aaya khud ki mehnat se main\n",
    "Jitni taakat kismat mein nahi\n",
    "Utni rehmat mein hai\n",
    "Phir bhi ladka sehmat nahin hai\n",
    "Kyon ki hairat nahi hai\n",
    "Zaroorat yahaan marzi ki\n",
    "Aur jurrat ki hai\n",
    " \n",
    "Taakat ki hai, aafat ki\n",
    "Himaakat ki, ibaadat ki\n",
    "Adalat yeh hai chahat ki\n",
    "Mohobbat ki, amaanat ki\n",
    "Jeetne ki ab aadat ki hai\n",
    "Shohrat ki ab laalach nai hai\n",
    "Tere bhai jaisa koyi hard’ch nai hai\n",
    " \n",
    "Iss harkat ne hi barkat di hai\n",
    "Kyon?\n",
    " \n",
    "Tu nanga hi to aaya hai\n",
    "Kya ghanta lekar jaayega\n",
    "Apna time aayega\n",
    "Apna time aayega\n",
    "Apna time aayega\n",
    " \n",
    "Tu nanga hi to aaya hai\n",
    "Kya ghanta lekar jaayega\n",
    "Kya tu ghanta lekar jaayega\n",
    "Apna time aayega\n",
    "Apna time aayega\"\"\"\n",
    "text = text.lower()\n",
    "print(len(text))"
   ]
  },
  {
   "cell_type": "code",
   "execution_count": 31,
   "metadata": {},
   "outputs": [
    {
     "name": "stdout",
     "output_type": "stream",
     "text": [
      "743\n"
     ]
    }
   ],
   "source": [
    "model = generateTable(text)\n",
    "print(len(model))"
   ]
  },
  {
   "cell_type": "code",
   "execution_count": 32,
   "metadata": {},
   "outputs": [],
   "source": [
    "\n",
    "def sample_next(ctx,T,k=4):\n",
    "    \n",
    "    ctx = ctx[-k:]\n",
    "    if T.get(ctx) is None:\n",
    "        return \"\"\n",
    "    possible_chars = list(T[ctx].keys())\n",
    "    possible_values = list(T[ctx].values())\n",
    "    return np.random.choice(possible_chars,p=possible_values)"
   ]
  },
  {
   "cell_type": "code",
   "execution_count": 33,
   "metadata": {},
   "outputs": [],
   "source": [
    "def generateText(starting_sent,k=4,maxLen=1996):\n",
    "    sentence = starting_sent\n",
    "    ctx = starting_sent[-k:]\n",
    "    np.random.seed(11)\n",
    "    for ix in range(maxLen):\n",
    "        next_prediction = sample_next(ctx,model)\n",
    "        sentence += next_prediction\n",
    "        ctx = sentence[-k:]\n",
    "        \n",
    "    return sentence"
   ]
  },
  {
   "cell_type": "code",
   "execution_count": 34,
   "metadata": {},
   "outputs": [
    {
     "name": "stdout",
     "output_type": "stream",
     "text": [
      "apna time aaya hath nahi\n",
      "utna hi to aaya hai seene se\n",
      "matlab bana lala\n",
      "mere bhai tu\n",
      "utna time aaya hai\n",
      "phir bhi satayega\n",
      "zinda mera khud ki hai, amaana lala\n",
      "tujhe na mila paseene se jeenenge\n",
      "sab kuchh mil payega\n",
      "jitni rehmat mein\n",
      "har raakh se\n",
      "tu nanga hi to khauf nahin hai jaisa koyi hai seene mein nahi hai\n",
      "kyon ki ab laalach nai hai\n",
      "kya ghanta lekar jaayega\n",
      "kya tu dafnayega\n",
      "apna time aayega\n",
      "kya tu ghanta lekar..\n",
      " \n",
      "kyon\n",
      "kyon ka hai\n",
      "kya ghanta lekar jaayega\n",
      "apna time aayega\n",
      "zinda mera khwaab hai chheene mein\n",
      " \n",
      "kyon ki hai jaisa shaan pighlayega\n",
      "jitni taakat ne hi barkat ki mehnat ki, amaana ab talaash mein\n",
      "parwane ki hai\n",
      "jo darr ko bhi ladka sehmat mein nahi\n",
      "utna hi to khaayega\n",
      " \n",
      "yeh shabdon ka hai\n",
      "zaroorat ki\n",
      "himaakat di hairat ki, ibaadat ki hai\n",
      "kya ghanta lekar jaayega\n",
      "apna time aayega\n",
      " \n",
      "tu nanga hi barkat ki\n",
      "adalat yahaan par\n",
      "yahaan marzi ki\n",
      "jeetne ki\n",
      "jeetne ki mehnat se main\n",
      "jitna hi to aayega\n",
      " \n",
      "ab hai\n",
      "kya tu dafnayega\n",
      "mere jaisa mera khud ki hai\n",
      "kya ghanta lekar jaayega\n",
      "kya tu ghanta lekar..\n",
      " \n",
      "kissi ka hai\n",
      "kya ghanta lekar..\n",
      " \n",
      "kissi ka jwala\n",
      "meri bediyan parwaaz dekh par aaya hai\n",
      "kya ghanta lekar jaayega\n",
      "aayega\n",
      "apna time aayega\n",
      "aayega\n",
      "apna time aaya hath nai hai\n",
      "zaroorat ki\n",
      "mohobbat ki, aafat ki hai jaisa shaanat ki\n",
      "aur jurrat yahaan marzi ki\n",
      "adalat yeh shabdon ki ab aadat ki apna time aaya khwaab\n",
      "ab kaise tu ghanta lekar jaayega\n",
      "uth ja ab jeene mein hai\n",
      "phir bhi sar uthayega\n",
      " \n",
      "taakat ki\n",
      "himaakat ki mehnat se main\n",
      "jitna time aayega\n",
      "apna time aayega\n",
      "apna time aaya hai\n",
      " \n",
      "iss hard’ch nai hai\n",
      "kyon\n",
      "kyon\n",
      "kyon\n",
      "kyon ki mehnat se main\n",
      "jitna time aayega\n",
      "apna toone boya hai\n",
      "kyon ka jwala\n",
      "mere jaisa shaan pighlayega\n",
      "zinda mera khud ki ab talaash mein\n",
      "parwaaz dekh par\n",
      "yahaan pighlayega\n",
      "apna time aayega\n",
      " \n",
      "ab kuchh mil payega\n",
      "aisa mera khwaab\n",
      "ab kuchh mila paseene mein hai\n",
      "shohrat ki ab aadat ki\n",
      "adalat yahaana ab aadat ki\n",
      "mohobbat ki apna time aayega\n",
      "zinda mera khwaab hausle se main\n",
      "jitni taakat ne hi tha sar uthayega\n",
      "meri bediyan pighlayega\n",
      " \n",
      "tu nanga hi to aaya hai\n",
      "phir bhi\n"
     ]
    }
   ],
   "source": [
    "result = generateText(\"apna\")\n",
    "print(result)"
   ]
  },
  {
   "cell_type": "code",
   "execution_count": 35,
   "metadata": {},
   "outputs": [
    {
     "name": "stdout",
     "output_type": "stream",
     "text": [
      "2000\n"
     ]
    }
   ],
   "source": [
    "print(len(result))"
   ]
  },
  {
   "cell_type": "code",
   "execution_count": 37,
   "metadata": {},
   "outputs": [],
   "source": [
    "f = open(\"textGenOpt1.txt\",\"w\")\n",
    "f.write(result)\n",
    "f.close()"
   ]
  },
  {
   "cell_type": "code",
   "execution_count": null,
   "metadata": {},
   "outputs": [],
   "source": []
  },
  {
   "cell_type": "code",
   "execution_count": null,
   "metadata": {},
   "outputs": [],
   "source": []
  }
 ],
 "metadata": {
  "kernelspec": {
   "display_name": "Python 3",
   "language": "python",
   "name": "python3"
  },
  "language_info": {
   "codemirror_mode": {
    "name": "ipython",
    "version": 3
   },
   "file_extension": ".py",
   "mimetype": "text/x-python",
   "name": "python",
   "nbconvert_exporter": "python",
   "pygments_lexer": "ipython3",
   "version": "3.7.3"
  }
 },
 "nbformat": 4,
 "nbformat_minor": 2
}
