{
 "cells": [
  {
   "cell_type": "code",
   "execution_count": 46,
   "metadata": {},
   "outputs": [],
   "source": [
    "import keras\n",
    "import matplotlib.pyplot as plt"
   ]
  },
  {
   "cell_type": "code",
   "execution_count": 29,
   "metadata": {},
   "outputs": [],
   "source": [
    "import keras \n",
    "import numpy as np"
   ]
  },
  {
   "cell_type": "code",
   "execution_count": 30,
   "metadata": {},
   "outputs": [],
   "source": [
    "from keras.datasets import boston_housing"
   ]
  },
  {
   "cell_type": "code",
   "execution_count": 31,
   "metadata": {},
   "outputs": [],
   "source": [
    "Train,Test = boston_housing.load_data()"
   ]
  },
  {
   "cell_type": "code",
   "execution_count": 32,
   "metadata": {},
   "outputs": [
    {
     "name": "stdout",
     "output_type": "stream",
     "text": [
      "(404, 13) (404,)\n",
      "(102, 13) (102,)\n"
     ]
    }
   ],
   "source": [
    "XT,YT = Train\n",
    "print(XT.shape,YT.shape)\n",
    "\n",
    "Xt,Yt = Test\n",
    "print(Xt.shape,Yt.shape)"
   ]
  },
  {
   "cell_type": "code",
   "execution_count": 33,
   "metadata": {},
   "outputs": [],
   "source": [
    "mean = XT.mean(axis=0)\n",
    "std = XT.std(axis=0)\n",
    "\n",
    "XT = (XT-mean)/std\n",
    "Xt = (Xt-mean)/std\n"
   ]
  },
  {
   "cell_type": "markdown",
   "metadata": {},
   "source": [
    "## Building our neural network"
   ]
  },
  {
   "cell_type": "code",
   "execution_count": 34,
   "metadata": {},
   "outputs": [],
   "source": [
    "from keras.models import Sequential\n",
    "from keras.layers import Dense\n",
    "from keras import backend as k"
   ]
  },
  {
   "cell_type": "code",
   "execution_count": 42,
   "metadata": {},
   "outputs": [],
   "source": [
    "def r2_score(y_true,y_pred):\n",
    "    num = k.sum((k.square(y_true-y_pred)))\n",
    "    den = k.sum(y_true-k.mean(k.square(y_true)))\n",
    "    return (1-num/den)\n",
    "\n",
    "\n",
    "def getModel():\n",
    "    model = Sequential()\n",
    "    model.add(Dense(64,activation='relu',input_shape=(13,)))\n",
    "    model.add(Dense(32,activation='relu'))\n",
    "    model.add(Dense(1))\n",
    "    \n",
    "    model.compile(optimizer='adam',loss='mse',metrics=[r2_score])\n",
    "    return model"
   ]
  },
  {
   "cell_type": "code",
   "execution_count": 43,
   "metadata": {},
   "outputs": [
    {
     "name": "stdout",
     "output_type": "stream",
     "text": [
      "_________________________________________________________________\n",
      "Layer (type)                 Output Shape              Param #   \n",
      "=================================================================\n",
      "dense_19 (Dense)             (None, 64)                896       \n",
      "_________________________________________________________________\n",
      "dense_20 (Dense)             (None, 32)                2080      \n",
      "_________________________________________________________________\n",
      "dense_21 (Dense)             (None, 1)                 33        \n",
      "=================================================================\n",
      "Total params: 3,009\n",
      "Trainable params: 3,009\n",
      "Non-trainable params: 0\n",
      "_________________________________________________________________\n"
     ]
    }
   ],
   "source": [
    "model = getModel()\n",
    "model.summary()\n"
   ]
  },
  {
   "cell_type": "code",
   "execution_count": 44,
   "metadata": {},
   "outputs": [
    {
     "name": "stdout",
     "output_type": "stream",
     "text": [
      "Train on 404 samples, validate on 102 samples\n",
      "Epoch 1/30\n",
      "404/404 [==============================] - 1s 2ms/step - loss: 590.3101 - r2_score: 2.0478 - val_loss: 599.1684 - val_r2_score: 2.0109\n",
      "Epoch 2/30\n",
      "404/404 [==============================] - 0s 59us/step - loss: 551.5840 - r2_score: 1.9788 - val_loss: 559.0432 - val_r2_score: 1.9423\n",
      "Epoch 3/30\n",
      "404/404 [==============================] - 0s 62us/step - loss: 509.5942 - r2_score: 1.9029 - val_loss: 509.8172 - val_r2_score: 1.8582\n",
      "Epoch 4/30\n",
      "404/404 [==============================] - 0s 57us/step - loss: 455.9821 - r2_score: 1.8100 - val_loss: 448.0657 - val_r2_score: 1.7524\n",
      "Epoch 5/30\n",
      "404/404 [==============================] - 0s 64us/step - loss: 390.9648 - r2_score: 1.6893 - val_loss: 370.8471 - val_r2_score: 1.6204\n",
      "Epoch 6/30\n",
      "404/404 [==============================] - 0s 54us/step - loss: 312.0356 - r2_score: 1.5507 - val_loss: 285.1075 - val_r2_score: 1.4746\n",
      "Epoch 7/30\n",
      "404/404 [==============================] - 0s 77us/step - loss: 228.1426 - r2_score: 1.4046 - val_loss: 197.9816 - val_r2_score: 1.3271\n",
      "Epoch 8/30\n",
      "404/404 [==============================] - 0s 64us/step - loss: 152.1187 - r2_score: 1.2702 - val_loss: 127.5345 - val_r2_score: 1.2095\n",
      "Epoch 9/30\n",
      "404/404 [==============================] - 0s 69us/step - loss: 99.4183 - r2_score: 1.1742 - val_loss: 87.7645 - val_r2_score: 1.1450\n",
      "Epoch 10/30\n",
      "404/404 [==============================] - 0s 57us/step - loss: 71.9886 - r2_score: 1.1274 - val_loss: 68.3098 - val_r2_score: 1.1141\n",
      "Epoch 11/30\n",
      "404/404 [==============================] - 0s 69us/step - loss: 58.3124 - r2_score: 1.1015 - val_loss: 55.5680 - val_r2_score: 1.0933\n",
      "Epoch 12/30\n",
      "404/404 [==============================] - 0s 72us/step - loss: 47.5194 - r2_score: 1.0846 - val_loss: 46.5809 - val_r2_score: 1.0782\n",
      "Epoch 13/30\n",
      "404/404 [==============================] - 0s 72us/step - loss: 39.3173 - r2_score: 1.0684 - val_loss: 40.7924 - val_r2_score: 1.0683\n",
      "Epoch 14/30\n",
      "404/404 [==============================] - 0s 67us/step - loss: 34.1478 - r2_score: 1.0594 - val_loss: 36.5788 - val_r2_score: 1.0612\n",
      "Epoch 15/30\n",
      "404/404 [==============================] - 0s 57us/step - loss: 30.2154 - r2_score: 1.0529 - val_loss: 33.9594 - val_r2_score: 1.0566\n",
      "Epoch 16/30\n",
      "404/404 [==============================] - 0s 64us/step - loss: 27.6588 - r2_score: 1.0497 - val_loss: 31.8019 - val_r2_score: 1.0529\n",
      "Epoch 17/30\n",
      "404/404 [==============================] - 0s 59us/step - loss: 25.6917 - r2_score: 1.0460 - val_loss: 30.4765 - val_r2_score: 1.0505\n",
      "Epoch 18/30\n",
      "404/404 [==============================] - 0s 64us/step - loss: 24.2816 - r2_score: 1.0432 - val_loss: 29.4706 - val_r2_score: 1.0486\n",
      "Epoch 19/30\n",
      "404/404 [==============================] - 0s 62us/step - loss: 23.1613 - r2_score: 1.0396 - val_loss: 28.6082 - val_r2_score: 1.0470\n",
      "Epoch 20/30\n",
      "404/404 [==============================] - 0s 64us/step - loss: 22.1779 - r2_score: 1.0376 - val_loss: 27.8943 - val_r2_score: 1.0457\n",
      "Epoch 21/30\n",
      "404/404 [==============================] - 0s 74us/step - loss: 21.2308 - r2_score: 1.0372 - val_loss: 27.1489 - val_r2_score: 1.0442\n",
      "Epoch 22/30\n",
      "404/404 [==============================] - 0s 67us/step - loss: 20.5188 - r2_score: 1.0357 - val_loss: 26.2645 - val_r2_score: 1.0426\n",
      "Epoch 23/30\n",
      "404/404 [==============================] - 0s 74us/step - loss: 19.6928 - r2_score: 1.0355 - val_loss: 26.0022 - val_r2_score: 1.0421\n",
      "Epoch 24/30\n",
      "404/404 [==============================] - 0s 62us/step - loss: 19.0357 - r2_score: 1.0333 - val_loss: 25.4677 - val_r2_score: 1.0411\n",
      "Epoch 25/30\n",
      "404/404 [==============================] - 0s 64us/step - loss: 18.3400 - r2_score: 1.0323 - val_loss: 25.0678 - val_r2_score: 1.0403\n",
      "Epoch 26/30\n",
      "404/404 [==============================] - 0s 52us/step - loss: 17.7631 - r2_score: 1.0309 - val_loss: 24.2957 - val_r2_score: 1.0390\n",
      "Epoch 27/30\n",
      "404/404 [==============================] - 0s 64us/step - loss: 17.2730 - r2_score: 1.0301 - val_loss: 24.3842 - val_r2_score: 1.0390\n",
      "Epoch 28/30\n",
      "404/404 [==============================] - 0s 57us/step - loss: 16.6345 - r2_score: 1.0301 - val_loss: 23.8487 - val_r2_score: 1.0381\n",
      "Epoch 29/30\n",
      "404/404 [==============================] - 0s 64us/step - loss: 16.1681 - r2_score: 1.0286 - val_loss: 23.5543 - val_r2_score: 1.0375\n",
      "Epoch 30/30\n",
      "404/404 [==============================] - 0s 69us/step - loss: 15.7852 - r2_score: 1.0277 - val_loss: 23.4091 - val_r2_score: 1.0372\n"
     ]
    }
   ],
   "source": [
    "hist = model.fit(XT,YT,epochs=30,validation_data=(Xt,Yt),verbose=1)"
   ]
  },
  {
   "cell_type": "code",
   "execution_count": 45,
   "metadata": {},
   "outputs": [],
   "source": [
    "val_loss = hist.history['val_loss']\n",
    "loss = hist.history['loss']"
   ]
  },
  {
   "cell_type": "code",
   "execution_count": 47,
   "metadata": {},
   "outputs": [
    {
     "data": {
      "text/plain": [
       "[<matplotlib.lines.Line2D at 0x13163a30e80>]"
      ]
     },
     "execution_count": 47,
     "metadata": {},
     "output_type": "execute_result"
    },
    {
     "data": {
      "image/png": "[encoded data removed]",
      "text/plain": [
       "<Figure size 432x288 with 1 Axes>"
      ]
     },
     "metadata": {
      "needs_background": "light"
     },
     "output_type": "display_data"
    }
   ],
   "source": [
    "plt.plot(val_loss)\n",
    "plt.plot(loss)"
   ]
  },
  {
   "cell_type": "code",
   "execution_count": null,
   "metadata": {},
   "outputs": [],
   "source": []
  }
 ],
 "metadata": {
  "kernelspec": {
   "display_name": "Python 3",
   "language": "python",
   "name": "python3"
  },
  "language_info": {
   "codemirror_mode": {
    "name": "ipython",
    "version": 3
   },
   "file_extension": ".py",
   "mimetype": "text/x-python",
   "name": "python",
   "nbconvert_exporter": "python",
   "pygments_lexer": "ipython3",
   "version": "3.7.3"
  }
 },
 "nbformat": 4,
 "nbformat_minor": 2
}
