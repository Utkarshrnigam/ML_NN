{
 "cells": [
  {
   "cell_type": "code",
   "execution_count": 1,
   "metadata": {},
   "outputs": [],
   "source": [
    "from gensim.models import word2vec, KeyedVectors\n",
    "from sklearn.metrics.pairwise import cosine_similarity"
   ]
  },
  {
   "cell_type": "code",
   "execution_count": 3,
   "metadata": {},
   "outputs": [],
   "source": [
    "word_vectors = KeyedVectors.load_word2vec_format('GoogleNews-vectors-negative300.bin', binary = True)"
   ]
  },
  {
   "cell_type": "code",
   "execution_count": 26,
   "metadata": {},
   "outputs": [],
   "source": [
    "def odd_one_out(words):\n",
    "    [x.lower() for x in words]\n",
    "        \n",
    "    all_word_vectors = [word_vectors[word] for word in words]\n",
    "    avg_vector = np.mean(all_word_vectors,axis=0)\n",
    "    print(avg_vector.shape)\n",
    "    oddone = None\n",
    "    min_sim = 1.0\n",
    "    for word in words:\n",
    "        word_vec = word_vectors[word]\n",
    "        sim = cosine_similarity([word_vec],[avg_vector])\n",
    "#         print('Similarity between %s and average vector is %.2f' %(word,sim))\n",
    "        if sim<min_sim:\n",
    "            oddone = word\n",
    "            min_sim = sim\n",
    "            \n",
    "    return oddone"
   ]
  },
  {
   "cell_type": "code",
   "execution_count": 27,
   "metadata": {},
   "outputs": [
    {
     "name": "stdout",
     "output_type": "stream",
     "text": [
      "          Word1      Word2      Word3      Word4     Word5\n",
      "0      elephant       lion      tiger       goat     snake\n",
      "1           man  policeman    fireman    teacher   postman\n",
      "2         plane       bird     rocket    balloon       cat\n",
      "3         onion     celery    lettuce  pineapple    potato\n",
      "4         India   football     hockey    cricket  swimming\n",
      "5           who        why       what      where        is\n",
      "6            on         in       over      their       was\n",
      "7         India  Australia      Japan     Russia     China\n",
      "8        Dollar     Rupees      Euros      Cents     Money\n",
      "9           eat      sleep      drink      think     dance\n",
      "10          car    scooter       bike    bicycle      ship\n",
      "11       Poland     Russia    England       Rome   Ukraine\n",
      "12         Lake        Sea      River       Pool      Pond\n",
      "13          Sun       Moon       Star       Mars     Egypt\n",
      "14          fox       wolf     jackal      mouse   panther\n",
      "15         veil     turban     helmet      shirt       hat\n",
      "16      Physics  Chemistry  Geography     Botany  Universe\n",
      "17  Assassinate       Kill     Kidnap       Stab    Murder\n",
      "18       Hostel      Hotel        Inn       Club     Motel\n",
      "19        Earth       Mars    Neptune      Pluto       Sun\n"
     ]
    }
   ],
   "source": [
    "import pandas as pd\n",
    "import numpy as np\n",
    "\n",
    "test = pd.read_csv('./Dataset/word2vec/Test.csv')\n",
    "print(test)"
   ]
  },
  {
   "cell_type": "code",
   "execution_count": 28,
   "metadata": {},
   "outputs": [
    {
     "name": "stdout",
     "output_type": "stream",
     "text": [
      "(300,)\n",
      "(300,)\n",
      "(300,)\n",
      "(300,)\n",
      "(300,)\n",
      "(300,)\n",
      "(300,)\n",
      "(300,)\n",
      "(300,)\n",
      "(300,)\n",
      "(300,)\n",
      "(300,)\n",
      "(300,)\n",
      "(300,)\n",
      "(300,)\n",
      "(300,)\n",
      "(300,)\n",
      "(300,)\n",
      "(300,)\n",
      "(300,)\n"
     ]
    }
   ],
   "source": [
    "test = test.values\n",
    "\n",
    "m = test.shape[0]\n",
    "out = []\n",
    "for i in range(m):\n",
    "    out.append(odd_one_out(test[i]))\n",
    "    \n",
    "    "
   ]
  },
  {
   "cell_type": "code",
   "execution_count": 29,
   "metadata": {},
   "outputs": [
    {
     "name": "stdout",
     "output_type": "stream",
     "text": [
      "['snake', 'teacher', 'cat', 'pineapple', 'India', 'is', 'was', 'Australia', 'Money', 'think', 'ship', 'Rome', 'Pool', 'Egypt', 'mouse', 'helmet', 'Universe', 'Kill', 'Club', 'Sun']\n"
     ]
    }
   ],
   "source": [
    "print(out)"
   ]
  },
  {
   "cell_type": "code",
   "execution_count": 30,
   "metadata": {},
   "outputs": [],
   "source": [
    "y =  pd.DataFrame(data=out,columns=[\"OddOne\"]) \n",
    "y.to_csv(\"oddoneout.csv\",index = False)"
   ]
  },
  {
   "cell_type": "code",
   "execution_count": null,
   "metadata": {},
   "outputs": [],
   "source": []
  }
 ],
 "metadata": {
  "kernelspec": {
   "display_name": "Python 3",
   "language": "python",
   "name": "python3"
  },
  "language_info": {
   "codemirror_mode": {
    "name": "ipython",
    "version": 3
   },
   "file_extension": ".py",
   "mimetype": "text/x-python",
   "name": "python",
   "nbconvert_exporter": "python",
   "pygments_lexer": "ipython3",
   "version": "3.7.3"
  }
 },
 "nbformat": 4,
 "nbformat_minor": 2
}
