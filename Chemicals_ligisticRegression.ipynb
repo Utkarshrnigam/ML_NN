{
 "cells": [
  {
   "cell_type": "code",
   "execution_count": 1,
   "metadata": {},
   "outputs": [],
   "source": [
    "import numpy as np\n",
    "import matplotlib.pyplot as plt\n",
    "import pandas as pd"
   ]
  },
  {
   "cell_type": "code",
   "execution_count": 2,
   "metadata": {},
   "outputs": [],
   "source": [
    "dfx = pd.read_csv(\"C:/Users/ASUS/Desktop/p/ML/ML/Dataset/Chemicals_logistic/Logistic_X_Train.csv\")\n",
    "dfy = pd.read_csv(\"C:/Users/ASUS/Desktop/p/ML/ML/Dataset/Chemicals_logistic/Logistic_Y_Train.csv\")"
   ]
  },
  {
   "cell_type": "code",
   "execution_count": 3,
   "metadata": {},
   "outputs": [],
   "source": [
    "X = dfx.values\n",
    "Y = dfy.values"
   ]
  },
  {
   "cell_type": "code",
   "execution_count": 4,
   "metadata": {},
   "outputs": [],
   "source": [
    "ones = np.ones((X.shape[0],1))\n",
    "X = np.hstack((ones,X))"
   ]
  },
  {
   "cell_type": "code",
   "execution_count": 5,
   "metadata": {},
   "outputs": [
    {
     "name": "stdout",
     "output_type": "stream",
     "text": [
      "[[ 1.         -1.23937466  0.74910149 -0.52851491]\n",
      " [ 1.         -1.03607028  0.80143631 -1.28371152]\n",
      " [ 1.         -0.61557914  1.57952053 -1.39192706]\n",
      " ...\n",
      " [ 1.          0.08827657  1.63878904 -2.19364056]\n",
      " [ 1.          1.52515501  0.85923429  1.50530791]\n",
      " [ 1.         -0.97981744  0.56395376 -1.53939416]]\n"
     ]
    }
   ],
   "source": [
    "print(X)"
   ]
  },
  {
   "cell_type": "code",
   "execution_count": 6,
   "metadata": {},
   "outputs": [],
   "source": [
    "def sigmoid(z):\n",
    "    return 1/(1 + np.exp(-z))"
   ]
  },
  {
   "cell_type": "code",
   "execution_count": 7,
   "metadata": {},
   "outputs": [],
   "source": [
    "def hypothesis(x,theta):\n",
    "    return sigmoid(np.dot(x,theta))"
   ]
  },
  {
   "cell_type": "code",
   "execution_count": 8,
   "metadata": {},
   "outputs": [],
   "source": [
    "def error(Y,X,theta):\n",
    "    m = X.shape[0]\n",
    "    total_error = 0\n",
    "    for i in range(m):\n",
    "        y_hat = hypothesis(X[i],theta)\n",
    "        total_error += Y[i]*np.log2(y_hat) + (1-Y[i])*np.log2(1-y_hat)\n",
    "    return -total_error/m"
   ]
  },
  {
   "cell_type": "code",
   "execution_count": 22,
   "metadata": {},
   "outputs": [],
   "source": [
    "def get_grad(Y,X,theta):\n",
    "    grad = np.zeros(theta.shape)\n",
    "    m = X.shape[0]\n",
    "    for i in range(m):\n",
    "        y_hat = hypothesis(X[i],theta)\n",
    "        x = X[i].reshape((-1,1))\n",
    "        grad += (-Y[i] + y_hat)*x\n",
    "    return grad/m"
   ]
  },
  {
   "cell_type": "code",
   "execution_count": 23,
   "metadata": {},
   "outputs": [],
   "source": [
    "def gradientDescent(X,Y,learning_rate = 0.5):\n",
    "    theta = np.zeros((X.shape[1],1))\n",
    "    error_list = []\n",
    "    for i in range(200):\n",
    "        theta = theta - learning_rate*get_grad(Y,X,theta)\n",
    "        e = error(Y,X,theta)\n",
    "        error_list.append(e)\n",
    "    return theta,error_list\n",
    "        "
   ]
  },
  {
   "cell_type": "code",
   "execution_count": 24,
   "metadata": {},
   "outputs": [],
   "source": [
    "theta,error_list = gradientDescent(X,Y)"
   ]
  },
  {
   "cell_type": "code",
   "execution_count": 25,
   "metadata": {},
   "outputs": [
    {
     "data": {
      "text/plain": [
       "[<matplotlib.lines.Line2D at 0x1e6f50fbef0>]"
      ]
     },
     "execution_count": 25,
     "metadata": {},
     "output_type": "execute_result"
    },
    {
     "data": {
      "image/png": "[encoded data removed]",
      "text/plain": [
       "<Figure size 432x288 with 1 Axes>"
      ]
     },
     "metadata": {
      "needs_background": "light"
     },
     "output_type": "display_data"
    }
   ],
   "source": [
    "plt.plot(error_list)"
   ]
  },
  {
   "cell_type": "code",
   "execution_count": 31,
   "metadata": {},
   "outputs": [
    {
     "name": "stdout",
     "output_type": "stream",
     "text": [
      "[[ 1.         -0.76750773 -0.2618595  -2.51483147]\n",
      " [ 1.         -1.24165258  1.44900144 -0.4130893 ]\n",
      " [ 1.          1.92527007  1.93176097  1.34261917]\n",
      " ...\n",
      " [ 1.         -1.18696873  0.94734729 -0.78638597]\n",
      " [ 1.         -0.53232395  1.84516978 -0.9935503 ]\n",
      " [ 1.          0.54023217  0.58099406  0.38664901]]\n"
     ]
    }
   ],
   "source": [
    "test = pd.read_csv(\"C:/Users/ASUS/Desktop/p/ML/ML/Dataset/Chemicals_logistic/Logistic_X_Test.csv\")\n",
    "test = test.values\n",
    "ones = np.ones((test.shape[0],1))\n",
    "test = np.hstack((ones,test))\n",
    "print(test)"
   ]
  },
  {
   "cell_type": "code",
   "execution_count": 32,
   "metadata": {},
   "outputs": [],
   "source": [
    "def predict(X_test,theta):\n",
    "    out = hypothesis(X_test,theta)\n",
    "    for i in range(out.shape[0]):\n",
    "        if out>0.5:\n",
    "            return(\"1\")\n",
    "        else:\n",
    "            return(\"0\")"
   ]
  },
  {
   "cell_type": "code",
   "execution_count": 33,
   "metadata": {},
   "outputs": [],
   "source": [
    "Y_Pred = np.array([predict(test[i],theta) for i in range(test.shape[0])])"
   ]
  },
  {
   "cell_type": "code",
   "execution_count": 36,
   "metadata": {},
   "outputs": [],
   "source": [
    "y =  pd.DataFrame(data=Y_Pred,columns=[\"label\"]) \n",
    "y.to_csv(\"Chemicals.csv\",index = False)"
   ]
  },
  {
   "cell_type": "code",
   "execution_count": null,
   "metadata": {},
   "outputs": [],
   "source": []
  }
 ],
 "metadata": {
  "kernelspec": {
   "display_name": "Python 3",
   "language": "python",
   "name": "python3"
  },
  "language_info": {
   "codemirror_mode": {
    "name": "ipython",
    "version": 3
   },
   "file_extension": ".py",
   "mimetype": "text/x-python",
   "name": "python",
   "nbconvert_exporter": "python",
   "pygments_lexer": "ipython3",
   "version": "3.7.3"
  }
 },
 "nbformat": 4,
 "nbformat_minor": 2
}
