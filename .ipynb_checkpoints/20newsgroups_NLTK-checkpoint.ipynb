{
 "cells": [
  {
   "cell_type": "code",
   "execution_count": 2,
   "metadata": {},
   "outputs": [],
   "source": [
    "import nltk\n",
    "import numpy as np\n",
    "import pandas as pd"
   ]
  },
  {
   "cell_type": "code",
   "execution_count": 3,
   "metadata": {},
   "outputs": [],
   "source": [
    "from sklearn.datasets import fetch_20newsgroups"
   ]
  },
  {
   "cell_type": "code",
   "execution_count": 4,
   "metadata": {},
   "outputs": [],
   "source": [
    "newsgroup = fetch_20newsgroups()"
   ]
  },
  {
   "cell_type": "code",
   "execution_count": null,
   "metadata": {},
   "outputs": [],
   "source": [
    "X = np.array(newsgroup.data)\n",
    "Y = np.array(newsgroup.target)\n",
    "Y_target = np.array(newsgroup.target_names)\n",
    "type(X[1])"
   ]
  },
  {
   "cell_type": "code",
   "execution_count": 11,
   "metadata": {},
   "outputs": [],
   "source": [
    "m = X.shape[0]\n",
    "data_X = []\n",
    "data_Y = []\n",
    "for i in range(m):\n",
    "    if (Y_target[Y[i]] == 'comp.sys.mac.hardware' or \n",
    "       Y_target[Y[i]] == 'talk.politics.misc' or \n",
    "       Y_target[Y[i]] == 'rec.motorcycles' or \n",
    "       Y_target[Y[i]] == 'ctalk.politics.misc'):\n",
    "        data_X.append(X[i])\n",
    "        data_Y.append(Y_target[Y[i]])\n",
    "        \n",
    "        "
   ]
  },
  {
   "cell_type": "code",
   "execution_count": 26,
   "metadata": {},
   "outputs": [
    {
     "name": "stdout",
     "output_type": "stream",
     "text": [
      "[\"From: guykuo@carson.u.washington.edu (Guy Kuo)\\nSubject: SI Clock Poll - Final Call\\nSummary: Final call for SI clock reports\\nKeywords: SI,acceleration,clock,upgrade\\nArticle-I.D.: shelley.1qvfo9INNc3s\\nOrganization: University of Washington\\nLines: 11\\nNNTP-Posting-Host: carson.u.washington.edu\\n\\nA fair number of brave souls who upgraded their SI clock oscillator have\\nshared their experiences for this poll. Please send a brief message detailing\\nyour experiences with the procedure. Top speed attained, CPU rated speed,\\nadd on cards and adapters, heat sinks, hour of usage per day, floppy disk\\nfunctionality with 800 and 1.4 m floppies are especially requested.\\n\\nI will be summarizing in the next two days, so please add to the network\\nknowledge base if you have done the clock upgrade and haven't answered this\\npoll. Thanks.\\n\\nGuy Kuo <guykuo@u.washington.edu>\\n\"\n",
      " 'From: twillis@ec.ecn.purdue.edu (Thomas E Willis)\\nSubject: PB questions...\\nOrganization: Purdue University Engineering Computer Network\\nDistribution: usa\\nLines: 36\\n\\nwell folks, my mac plus finally gave up the ghost this weekend after\\nstarting life as a 512k way back in 1985.  sooo, i\\'m in the market for a\\nnew machine a bit sooner than i intended to be...\\n\\ni\\'m looking into picking up a powerbook 160 or maybe 180 and have a bunch\\nof questions that (hopefully) somebody can answer:\\n\\n* does anybody know any dirt on when the next round of powerbook\\nintroductions are expected?  i\\'d heard the 185c was supposed to make an\\nappearence \"this summer\" but haven\\'t heard anymore on it - and since i\\ndon\\'t have access to macleak, i was wondering if anybody out there had\\nmore info...\\n\\n* has anybody heard rumors about price drops to the powerbook line like the\\nones the duo\\'s just went through recently?\\n\\n* what\\'s the impression of the display on the 180?  i could probably swing\\na 180 if i got the 80Mb disk rather than the 120, but i don\\'t really have\\na feel for how much \"better\" the display is (yea, it looks great in the\\nstore, but is that all \"wow\" or is it really that good?).  could i solicit\\nsome opinions of people who use the 160 and 180 day-to-day on if its worth\\ntaking the disk size and money hit to get the active display?  (i realize\\nthis is a real subjective question, but i\\'ve only played around with the\\nmachines in a computer store breifly and figured the opinions of somebody\\nwho actually uses the machine daily might prove helpful).\\n\\n* how well does hellcats perform?  ;)\\n\\nthanks a bunch in advance for any info - if you could email, i\\'ll post a\\nsummary (news reading time is at a premium with finals just around the\\ncorner... :( )\\n--\\nTom Willis  \\\\  twillis@ecn.purdue.edu    \\\\    Purdue Electrical Engineering\\n---------------------------------------------------------------------------\\n\"Convictions are more dangerous enemies of truth than lies.\"  - F. W.\\nNietzsche\\n'\n",
      " \"From: kerr@ux1.cso.uiuc.edu (Stan Kerr)\\nSubject: Re: Sigma Designs Double up??\\nArticle-I.D.: ux1.C52u8x.B62\\nOrganization: University of Illinois at Urbana\\nLines: 29\\n\\njap10@po.CWRU.Edu (Joseph A. Pellettiere) writes:\\n\\n\\n>\\tI am looking for any information about the Sigma Designs\\n>\\tdouble up board.  All I can figure out is that it is a\\n>\\thardware compression board that works with AutoDoubler, but\\n>\\tI am not sure about this.  Also how much would one cost?\\n\\nI've had the board for over a year, and it does work with Diskdoubler,\\nbut not with Autodoubler, due to a licensing problem with Stac Technologies,\\nthe owners of the board's compression technology. (I'm writing this\\nfrom memory; I've lost the reference. Please correct me if I'm wrong.)\\n\\nUsing the board, I've had problems with file icons being lost, but it's\\nhard to say whether it's the board's fault or something else; however,\\nif I decompress the troubled file and recompress it without the board,\\nthe icon usually reappears. Because of the above mentioned licensing\\nproblem, the freeware expansion utility DD Expand will not decompress\\na board-compressed file unless you have the board installed.\\n\\nSince Stac has its own product now, it seems unlikely that the holes\\nin Autodoubler/Diskdoubler related to the board will be fixed.\\nWhich is sad, and makes me very reluctant to buy Stac's product since\\nthey're being so stinky. (But hey, that's competition.)\\n-- \\n\\nStan Kerr    \\nComputing & Communications Services Office, U of Illinois/Urbana\\nPhone: 217-333-5217  Email: stankerr@uiuc.edu   \\n\"\n",
      " ...\n",
      " \"From: bchuang@css.itd.umich.edu (Ben Chuang)\\nSubject: TCP/IP routing LocalTalk-Ethernet.\\nOrganization: University of Michigan ITD Consulting and Support Services\\nLines: 27\\nNNTP-Posting-Host: stimpy.css.itd.umich.edu\\n\\nHere is the story:\\nI have a network with 4 Macs on Localtalk. One of them has an\\nEthernet Card, and is currently connected to a NeXT (don't laugh\\nI got it for the price of a Mac IIsi). The NeXT is connected\\nto the internet over SLIP running on a 9600 baud modem.\\n\\nCurrently, we can telnet from the Mac w/ Ethernet to the NeXT,\\nand then telnet out again to the rest of the world.\\n\\nWhat we want to know is if there is some sort of hardware that\\nwill route telnet sessions from the Localtalk Macs to the NeXT\\nvia the Ethernet Mac. From what we have heard, AIR doesn't do\\nthe trick.\\n\\nSoftware solutions would be good too, but my impression is that\\nthere aren't going to be any.\\n\\nOur immediate interest is to be able to get to the NeXT and telnet\\nout again. The SLIP connection doesn't allow us to assign IP numbers\\nto machines, so everyone shares that 1 number...oh well...\\n\\nthanks in advance.\\n-- \\n_______________________________________________________________\\nBenjamin S. Chuang/ITD-CSS Consultant/University of Michigan:A2\\nBenjamin.Chuang@um.cc.umich.edu    (consulting & referals here) \\nbchuang@css.itd.umich.edu         (Unix and long messages here)\\n\"\n",
      " 'From: ebodin@pearl.tufts.edu\\nSubject: Screen Death: Mac Plus/512\\nLines: 22\\nOrganization: Tufts University - Medford, MA\\n\\nI have a (very old) Mac 512k and a Mac Plus, both of which \\nhave the same problem.\\n\\nTheir screens blank out, sometimes after a minor physical jolt\\n(such as inserting a floppy in the internal drive), sometimes \\nall by themselves (computer left to itself just goes blank).\\n\\nI have replaced the wires connecting the logic boards and the \\nvideo board, because it seemed at first that jiggling the wires\\nmade the screen come back on.  This worked for a while, but the\\nblanking out has returned.\\n\\nCan I do anything?  Do I need a new power supply?  A new CRT?\\nA new computer?\\n\\nThanks for any advice...\\n\\n--------------------------\\nEthan Bodin\\nTufts University\\nebodin@pearl.tufts.edu\\n--------------------------\\n'\n",
      " \"From: gunning@cco.caltech.edu (Kevin J. Gunning)\\nSubject: stolen CBR900RR\\nOrganization: California Institute of Technology, Pasadena\\nLines: 12\\nDistribution: usa\\nNNTP-Posting-Host: alumni.caltech.edu\\nSummary: see above\\n\\nStolen from Pasadena between 4:30 and 6:30 pm on 4/15.\\n\\nBlue and white Honda CBR900RR california plate KG CBR.   Serial number\\nJH2SC281XPM100187, engine number 2101240.\\n\\nNo turn signals or mirrors, lights taped over for track riders session\\nat Willow Springs tomorrow.  Guess I'll miss it.  :-(((\\n\\nHelp me find my baby!!!\\n\\nkjg\\n\\n\"]\n"
     ]
    }
   ],
   "source": [
    "data_X = np.array(data_X)\n",
    "data_Y = np.array(data_Y)\n",
    "data = np.hstack((data_X,data_Y))\n",
    "print(data_X)"
   ]
  },
  {
   "cell_type": "code",
   "execution_count": 20,
   "metadata": {},
   "outputs": [],
   "source": [
    "split = int(0.8*data_X.shape[0])"
   ]
  },
  {
   "cell_type": "code",
   "execution_count": null,
   "metadata": {},
   "outputs": [],
   "source": [
    "X_train = data_X[:split,:-1]\n",
    "X_test = data_X[split:,:-1]\n",
    "\n",
    "Y_train = data_X[:split,:-1]\n",
    "Y_test = data_X[split:,:-1]"
   ]
  }
 ],
 "metadata": {
  "kernelspec": {
   "display_name": "Python 3",
   "language": "python",
   "name": "python3"
  },
  "language_info": {
   "codemirror_mode": {
    "name": "ipython",
    "version": 3
   },
   "file_extension": ".py",
   "mimetype": "text/x-python",
   "name": "python",
   "nbconvert_exporter": "python",
   "pygments_lexer": "ipython3",
   "version": "3.7.3"
  }
 },
 "nbformat": 4,
 "nbformat_minor": 2
}
