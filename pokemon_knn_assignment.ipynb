{
 "cells": [
  {
   "cell_type": "code",
   "execution_count": 1,
   "metadata": {},
   "outputs": [],
   "source": [
    "import pandas as pd\n",
    "import numpy as np\n",
    "import matplotlib.pyplot as plt\n",
    "import cv2"
   ]
  },
  {
   "cell_type": "code",
   "execution_count": 12,
   "metadata": {},
   "outputs": [],
   "source": [
    "df = pd.read_csv('Dataset/pokemon/train.csv')"
   ]
  },
  {
   "cell_type": "code",
   "execution_count": 13,
   "metadata": {},
   "outputs": [
    {
     "name": "stdout",
     "output_type": "stream",
     "text": [
      "(304, 2)\n"
     ]
    }
   ],
   "source": [
    "X = df.values\n",
    "print(X.shape)\n",
    "X_values = []\n",
    "Y_values = []"
   ]
  },
  {
   "cell_type": "code",
   "execution_count": 14,
   "metadata": {},
   "outputs": [],
   "source": [
    "m = X.shape[0]\n",
    "for i in range(m):\n",
    "    title = X[i][0]\n",
    "    img = cv2.imread(\"Dataset/pokemon/Images/\"+title)\n",
    "    try:\n",
    "        if img == None:\n",
    "            continue\n",
    "    except:\n",
    "        img = cv2.resize(img,(400,400))\n",
    "        img = img.flatten()\n",
    "        X_values.append(img)\n",
    "        Y_values.append(X[i][1])\n",
    "    \n",
    "    "
   ]
  },
  {
   "cell_type": "code",
   "execution_count": 15,
   "metadata": {},
   "outputs": [
    {
     "name": "stdout",
     "output_type": "stream",
     "text": [
      "(136, 480000)\n"
     ]
    }
   ],
   "source": [
    "X_values = np.array(X_values)\n",
    "Y_values = np.array(Y_values)\n",
    "print(X_values.shape)"
   ]
  },
  {
   "cell_type": "code",
   "execution_count": 16,
   "metadata": {},
   "outputs": [],
   "source": [
    "def distance(p1,p2):\n",
    "    return (np.sum((p2-p1)**2))**0.5"
   ]
  },
  {
   "cell_type": "code",
   "execution_count": 17,
   "metadata": {},
   "outputs": [],
   "source": [
    "def knn(X,Y,test,k=5):\n",
    "    m=X.shape[0]\n",
    "    d=[]\n",
    "    for i in range(m):\n",
    "        dist = distance(X[i],test)\n",
    "        d.append((dist,Y[i]))\n",
    "    d = np.array(sorted(d))[:,1]\n",
    "    d = d[:k]\n",
    "    t = np.unique(d,return_counts=True)\n",
    "    idx = np.argmax(t[1])\n",
    "    pred = t[0][idx]\n",
    "    \n",
    "    return pred"
   ]
  },
  {
   "cell_type": "code",
   "execution_count": 18,
   "metadata": {},
   "outputs": [],
   "source": [
    "df_test = pd.read_csv('Dataset/pokemon/test.csv')"
   ]
  },
  {
   "cell_type": "code",
   "execution_count": 19,
   "metadata": {},
   "outputs": [
    {
     "name": "stdout",
     "output_type": "stream",
     "text": [
      "2236.jpg\n"
     ]
    }
   ],
   "source": [
    "test = df_test.values\n",
    "print(test[1][0])"
   ]
  },
  {
   "cell_type": "code",
   "execution_count": 20,
   "metadata": {},
   "outputs": [],
   "source": [
    "n = test.shape[0]\n",
    "X_test = []\n",
    "title_out = []\n",
    "for i in range(n):\n",
    "    title = test[i][0]\n",
    "    img = cv2.imread(\"Dataset/pokemon/Images/\"+title)\n",
    "    try:\n",
    "        if img == None:\n",
    "            continue\n",
    "\n",
    "    except:\n",
    "        img = cv2.resize(img,(400,400))\n",
    "        img = img.flatten()\n",
    "        title_out.append(title)\n",
    "        X_test.append(img)\n",
    "title_out = np.array(title_out)"
   ]
  },
  {
   "cell_type": "code",
   "execution_count": 21,
   "metadata": {},
   "outputs": [],
   "source": [
    "output = []\n",
    "\n",
    "n = test.shape[0]\n",
    "for j in range(n):\n",
    "    out = knn(X_values,Y_values,X_test[j])\n",
    "    output.append(out)\n",
    "output = np.array(output)\n",
    "output = np.reshape(output,(-1,1))\n",
    "title_out = np.array(title_out)\n",
    "title_out = np.reshape(title_out,(-1,1))\n",
    "\n",
    "data = np.hstack((title_out,output))"
   ]
  },
  {
   "cell_type": "code",
   "execution_count": 22,
   "metadata": {},
   "outputs": [],
   "source": [
    "y =  pd.DataFrame(data=data,columns=[\"ImageId\",\"NameOfPokemon\"]) \n",
    "y.to_csv(\"pokemon2.csv\",index = False)"
   ]
  },
  {
   "cell_type": "code",
   "execution_count": null,
   "metadata": {},
   "outputs": [],
   "source": []
  },
  {
   "cell_type": "code",
   "execution_count": null,
   "metadata": {},
   "outputs": [],
   "source": []
  },
  {
   "cell_type": "code",
   "execution_count": null,
   "metadata": {},
   "outputs": [],
   "source": []
  }
 ],
 "metadata": {
  "kernelspec": {
   "display_name": "Python 3",
   "language": "python",
   "name": "python3"
  },
  "language_info": {
   "codemirror_mode": {
    "name": "ipython",
    "version": 3
   },
   "file_extension": ".py",
   "mimetype": "text/x-python",
   "name": "python",
   "nbconvert_exporter": "python",
   "pygments_lexer": "ipython3",
   "version": "3.7.3"
  }
 },
 "nbformat": 4,
 "nbformat_minor": 2
}
